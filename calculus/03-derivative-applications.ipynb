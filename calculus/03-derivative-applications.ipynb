{
    "cells": [
     {
      "cell_type": "markdown",
      "metadata": {},
      "source": [
       "# Applications of Derivatives\n",
       "\n",
       "[![Python](https://img.shields.io/badge/Python-3.8+-blue.svg)](https://www.python.org/)\n",
       "[![NumPy](https://img.shields.io/badge/NumPy-1.21+-green.svg)](https://numpy.org/)\n",
       "[![Matplotlib](https://img.shields.io/badge/Matplotlib-3.5+-orange.svg)](https://matplotlib.org/)\n",
       "[![SymPy](https://img.shields.io/badge/SymPy-1.10+-purple.svg)](https://www.sympy.org/)\n",
       "\n",
       "## Introduction\n",
       "\n",
       "Derivatives have numerous applications in optimization, curve analysis, and machine learning. This chapter explores practical applications of derivatives in real-world problems."
      ]
     },
     {
      "cell_type": "code",
      "execution_count": null,
      "metadata": {},
      "outputs": [],
      "source": [
       "import numpy as np\n",
       "import matplotlib.pyplot as plt\n",
       "import sympy as sp\n",
       "from scipy.optimize import minimize\n",
       "from scipy.misc import derivative\n",
       "\n",
       "# Set up plotting style\n",
       "plt.style.use('seaborn-v0_8')\n",
       "plt.rcParams['figure.figsize'] = (12, 8)\n",
       "plt.rcParams['font.size'] = 12"
      ]
     },
     {
      "cell_type": "markdown",
      "metadata": {},
      "source": [
       "## 3.1 Optimization Problems\n",
       "\n",
       "Derivatives are essential for finding local and global extrema of functions."
      ]
     },
     {
      "cell_type": "code",
      "execution_count": null,
      "metadata": {},
      "outputs": [],
      "source": [
       "# Optimization example: Finding minimum of a function\n",
       "def objective_function(x):\n",
       "    return x**2 + 2*x + 1\n",
       "\n",
       "def derivative_function(x):\n",
       "    return 2*x + 2\n",
       "\n",
       "# Find critical points\n",
       "x = sp.Symbol('x')\n",
       "f = x**2 + 2*x + 1\n",
       "f_prime = sp.diff(f, x)\n",
       "critical_points = sp.solve(f_prime, x)\n",
       "\n",
       "print(f\"Function: f(x) = {f}\")\n",
       "print(f\"Derivative: f'(x) = {f_prime}\")\n",
       "print(f\"Critical points: {critical_points}\")\n",
       "\n",
       "# Visualize\n",
       "x_vals = np.linspace(-3, 1, 1000)\n",
       "y_vals = objective_function(x_vals)\n",
       "y_prime_vals = derivative_function(x_vals)\n",
       "\n",
       "fig, (ax1, ax2) = plt.subplots(1, 2, figsize=(15, 6))\n",
       "\n",
       "ax1.plot(x_vals, y_vals, 'b-', linewidth=3, label='f(x)')\n",
       "ax1.axvline(x=critical_points[0], color='r', linestyle='--', label='Critical point')\n",
       "ax1.scatter(critical_points[0], objective_function(critical_points[0]), \n",
       "           color='red', s=200, zorder=5, label='Minimum')\n",
       "ax1.set_xlabel('x')\n",
       "ax1.set_ylabel('f(x)')\n",
       "ax1.set_title('Function and Minimum')\n",
       "ax1.legend()\n",
       "ax1.grid(True, alpha=0.3)\n",
       "\n",
       "ax2.plot(x_vals, y_prime_vals, 'r-', linewidth=3, label=\"f'(x)\")\n",
       "ax2.axhline(y=0, color='k', linestyle='--', alpha=0.5)\n",
       "ax2.axvline(x=critical_points[0], color='r', linestyle='--', label='Critical point')\n",
       "ax2.set_xlabel('x')\n",
       "ax2.set_ylabel(\"f'(x)\")\n",
       "ax2.set_title('Derivative')\n",
       "ax2.legend()\n",
       "ax2.grid(True, alpha=0.3)\n",
       "\n",
       "plt.tight_layout()\n",
       "plt.show()"
      ]
     },
     {
      "cell_type": "markdown",
      "metadata": {},
      "source": [
       "## 3.2 Newton's Method\n",
       "\n",
       "Newton's method uses derivatives to find roots of functions efficiently."
      ]
     },
     {
      "cell_type": "code",
      "execution_count": null,
      "metadata": {},
      "outputs": [],
      "source": [
       "# Newton's method implementation\n",
       "def newton_method(f, f_prime, x0, tol=1e-6, max_iter=100):\n",
       "    \"\"\"Newton's method for finding roots\"\"\"\n",
       "    x = x0\n",
       "    history = [x]\n",
       "    \n",
       "    for i in range(max_iter):\n",
       "        fx = f(x)\n",
       "        fpx = f_prime(x)\n",
       "        \n",
       "        if abs(fx) < tol:\n",
       "            break\n",
       "            \n",
       "        if abs(fpx) < 1e-10:\n",
       "            print(\"Warning: Derivative too close to zero\")\n",
       "            break\n",
       "            \n",
       "        x_new = x - fx / fpx\n",
       "        history.append(x_new)\n",
       "        x = x_new\n",
       "    \n",
       "    return x, history\n",
       "\n",
       "# Example: Find root of f(x) = x² - 4\n",
       "def f(x):\n",
       "    return x**2 - 4\n",
       "\n",
       "def f_prime(x):\n",
       "    return 2*x\n",
       "\n",
       "root, history = newton_method(f, f_prime, x0=3.0)\n",
       "print(f\"Root found: x = {root:.6f}\")\n",
       "print(f\"f(root) = {f(root):.6f}\")\n",
       "print(f\"Number of iterations: {len(history)}\")\n",
       "\n",
       "# Visualize convergence\n",
       "x_vals = np.linspace(-4, 4, 1000)\n",
       "y_vals = f(x_vals)\n",
       "\n",
       "plt.figure(figsize=(12, 8))\n",
       "plt.plot(x_vals, y_vals, 'b-', linewidth=3, label='f(x) = x² - 4')\n",
       "plt.axhline(y=0, color='k', linestyle='--', alpha=0.5)\n",
       "plt.scatter(history, [f(x) for x in history], color='red', s=100, zorder=5, label='Newton iterations')\n",
       "plt.scatter(root, 0, color='green', s=200, zorder=5, label='Root')\n",
       "plt.xlabel('x')\n",
       "plt.ylabel('f(x)')\n",
       "plt.title(\"Newton's Method Convergence\")\n",
       "plt.legend()\n",
       "plt.grid(True, alpha=0.3)\n",
       "plt.show()"
      ]
     }
    ],
    "metadata": {
     "kernelspec": {
      "display_name": "Python 3",
      "language": "python",
      "name": "python3"
     },
     "language_info": {
      "codemirror_mode": {
       "name": "ipython",
       "version": 3
      },
      "file_extension": ".py",
      "mimetype": "text/x-python",
      "name": "python",
      "nbconvert_exporter": "python",
      "pygments_lexer": "ipython3",
      "version": "3.8.5"
     }
    },
    "nbformat": 4,
    "nbformat_minor": 4
   }