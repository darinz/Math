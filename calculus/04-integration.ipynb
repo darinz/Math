{
    "cells": [
     {
      "cell_type": "markdown",
      "metadata": {},
      "source": [
       "# Integration\n",
       "\n",
       "[![Python](https://img.shields.io/badge/Python-3.8+-blue.svg)](https://www.python.org/)\n",
       "[![NumPy](https://img.shields.io/badge/NumPy-1.21+-green.svg)](https://numpy.org/)\n",
       "[![Matplotlib](https://img.shields.io/badge/Matplotlib-3.5+-orange.svg)](https://matplotlib.org/)\n",
       "[![SymPy](https://img.shields.io/badge/SymPy-1.10+-purple.svg)](https://www.sympy.org/)\n",
       "\n",
       "## Introduction\n",
       "\n",
       "Integration is the reverse process of differentiation and is fundamental to calculus. It has applications in probability, physics, and machine learning."
      ]
     },
     {
      "cell_type": "code",
      "execution_count": null,
      "metadata": {},
      "outputs": [],
      "source": [
       "import numpy as np\n",
       "import matplotlib.pyplot as plt\n",
       "import sympy as sp\n",
       "from scipy import integrate\n",
       "\n",
       "# Set up plotting style\n",
       "plt.style.use('seaborn-v0_8')\n",
       "plt.rcParams['figure.figsize'] = (12, 8)\n",
       "plt.rcParams['font.size'] = 12"
      ]
     },
     {
      "cell_type": "markdown",
      "metadata": {},
      "source": [
       "## 4.1 Definite Integration\n",
       "\n",
       "Definite integration computes the area under a curve between two points."
      ]
     },
     {
      "cell_type": "code",
      "execution_count": null,
      "metadata": {},
      "outputs": [],
      "source": [
       "# Visualize definite integration\n",
       "def f(x):\n",
       "    return x**2\n",
       "\n",
       "x_vals = np.linspace(0, 2, 1000)\n",
       "y_vals = f(x_vals)\n",
       "\n",
       "plt.figure(figsize=(12, 8))\n",
       "plt.plot(x_vals, y_vals, 'b-', linewidth=3, label='f(x) = x²')\n",
       "plt.fill_between(x_vals, y_vals, alpha=0.3, color='blue', label='Area under curve')\n",
       "plt.xlabel('x')\n",
       "plt.ylabel('f(x)')\n",
       "plt.title('Definite Integration: Area under f(x) = x² from 0 to 2')\n",
       "plt.legend()\n",
       "plt.grid(True, alpha=0.3)\n",
       "plt.show()\n",
       "\n",
       "# Calculate integral using different methods\n",
       "from scipy import integrate\n",
       "\n",
       "# Numerical integration\n",
       "result_numerical, error = integrate.quad(f, 0, 2)\n",
       "print(f\"Numerical integration: ∫₀² x² dx = {result_numerical:.6f}\")\n",
       "\n",
       "# Symbolic integration\n",
       "x = sp.Symbol('x')\n",
       "integral_symbolic = sp.integrate(x**2, (x, 0, 2))\n",
       "print(f\"Symbolic integration: ∫₀² x² dx = {integral_symbolic}\")\n",
       "\n",
       "# Analytical result\n",
       "analytical = (2**3) / 3 - (0**3) / 3\n",
       "print(f\"Analytical result: ∫₀² x² dx = {analytical:.6f}\")"
      ]
     },
     {
      "cell_type": "markdown",
      "metadata": {},
      "source": [
       "## 4.2 Probability Applications\n",
       "\n",
       "Integration is essential for probability calculations, especially for continuous probability distributions."
      ]
     },
     {
      "cell_type": "code",
      "execution_count": null,
      "metadata": {},
      "outputs": [],
      "source": [
       "# Normal distribution integration\n",
       "from scipy.stats import norm\n",
       "\n",
       "def normal_pdf(x, mu=0, sigma=1):\n",
       "    return (1/(sigma * np.sqrt(2*np.pi))) * np.exp(-0.5 * ((x - mu)/sigma)**2)\n",
       "\n",
       "# Calculate probabilities\n",
       "prob_1sigma, _ = integrate.quad(normal_pdf, -1, 1)\n",
       "prob_2sigma, _ = integrate.quad(normal_pdf, -2, 2)\n",
       "prob_3sigma, _ = integrate.quad(normal_pdf, -3, 3)\n",
       "\n",
       "print(f\"P(-1 ≤ X ≤ 1): {prob_1sigma:.4f} (68.27%)\")\n",
       "print(f\"P(-2 ≤ X ≤ 2): {prob_2sigma:.4f} (95.45%)\")\n",
       "print(f\"P(-3 ≤ X ≤ 3): {prob_3sigma:.4f} (99.73%)\")\n",
       "\n",
       "# Visualize\n",
       "x = np.linspace(-4, 4, 1000)\n",
       "y = normal_pdf(x)\n",
       "\n",
       "fig, ((ax1, ax2), (ax3, ax4)) = plt.subplots(2, 2, figsize=(15, 10))\n",
       "\n",
       "# Full distribution\n",
       "ax1.plot(x, y, 'b-', linewidth=2)\n",
       "ax1.fill_between(x, y, alpha=0.3, color='blue')\n",
       "ax1.set_xlabel('x')\n",
       "ax1.set_ylabel('f(x)')\n",
       "ax1.set_title('Standard Normal Distribution')\n",
       "ax1.grid(True)\n",
       "\n",
       "# ±1σ region\n",
       "ax2.plot(x, y, 'b-', linewidth=2)\n",
       "mask = (x >= -1) & (x <= 1)\n",
       "ax2.fill_between(x[mask], y[mask], alpha=0.5, color='red')\n",
       "ax2.set_xlabel('x')\n",
       "ax2.set_ylabel('f(x)')\n",
       "ax2.set_title(f'P(-1 ≤ X ≤ 1) = {prob_1sigma:.4f}')\n",
       "ax2.grid(True)\n",
       "\n",
       "# ±2σ region\n",
       "ax3.plot(x, y, 'b-', linewidth=2)\n",
       "mask = (x >= -2) & (x <= 2)\n",
       "ax3.fill_between(x[mask], y[mask], alpha=0.5, color='green')\n",
       "ax3.set_xlabel('x')\n",
       "ax3.set_ylabel('f(x)')\n",
       "ax3.set_title(f'P(-2 ≤ X ≤ 2) = {prob_2sigma:.4f}')\n",
       "ax3.grid(True)\n",
       "\n",
       "# ±3σ region\n",
       "ax4.plot(x, y, 'b-', linewidth=2)\n",
       "mask = (x >= -3) & (x <= 3)\n",
       "ax4.fill_between(x[mask], y[mask], alpha=0.5, color='orange')\n",
       "ax4.set_xlabel('x')\n",
       "ax4.set_ylabel('f(x)')\n",
       "ax4.set_title(f'P(-3 ≤ X ≤ 3) = {prob_3sigma:.4f}')\n",
       "ax4.grid(True)\n",
       "\n",
       "plt.tight_layout()\n",
       "plt.show()"
      ]
     }
    ],
    "metadata": {
     "kernelspec": {
      "display_name": "Python 3",
      "language": "python",
      "name": "python3"
     },
     "language_info": {
      "codemirror_mode": {
       "name": "ipython",
       "version": 3
      },
      "file_extension": ".py",
      "mimetype": "text/x-python",
      "name": "python",
      "nbconvert_exporter": "python",
      "pygments_lexer": "ipython3",
      "version": "3.8.5"
     }
    },
    "nbformat": 4,
    "nbformat_minor": 4
   }