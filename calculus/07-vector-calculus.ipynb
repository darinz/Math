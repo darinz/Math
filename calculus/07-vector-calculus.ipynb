{
  "cells": [
    {
      "cell_type": "markdown",
      "metadata": {},
      "source": [
        "# Vector Calculus\n\n[![Python](https://img.shields.io/badge/Python-3.8+-blue.svg)](https://www.python.org/)\n[![NumPy](https://img.shields.io/badge/NumPy-1.21+-green.svg)](https://numpy.org/)\n[![Matplotlib](https://img.shields.io/badge/Matplotlib-3.5+-orange.svg)](https://matplotlib.org/)\n[![SymPy](https://img.shields.io/badge/SymPy-1.10+-purple.svg)](https://www.sympy.org/)\n[![SciPy](https://img.shields.io/badge/SciPy-1.7+-red.svg)](https://scipy.org/)\n\n## Introduction\n\nVector calculus extends calculus to vector fields and provides powerful tools for understanding physical phenomena, fluid dynamics, electromagnetism, and many other applications. In AI/ML and data science, vector calculus is essential for:\n- Understanding gradient flows and optimization in high-dimensional spaces\n- Analyzing neural network architectures and training dynamics\n- Modeling complex systems with multiple interacting variables\n- Interpreting feature interactions and model sensitivity\n\nThe fundamental operations of vector calculus—divergence, curl, and gradient—provide geometric and physical intuition for understanding how vector fields behave and evolve.\n\n## 7.1 Vector Fields\n\n### Mathematical Foundations and Visualization\n\nA vector field assigns a vector to each point in space. In 2D, a vector field is a function \\( \\mathbf{F}: \\mathbb{R}^2 \\to \\mathbb{R}^2 \\) given by:\n\\[\n\\mathbf{F}(x, y) = [P(x, y), Q(x, y)]\n\\]\nwhere \\( P \\) and \\( Q \\) are scalar functions. Vector fields can represent:\n- **Conservative fields:** Those that can be written as the gradient of a scalar potential\n- **Rotational fields:** Those with non-zero curl, indicating rotational motion\n- **Radial fields:** Those pointing toward or away from a central point\n\n**Relevance to AI/ML:**\n- Gradient fields represent the direction of steepest ascent in optimization landscapes\n- Vector fields model feature interactions and data flow in neural networks\n- Understanding field behavior helps interpret model dynamics and convergence\n\n### Python Implementation: Vector Fields\n\nThe following code demonstrates how to define and visualize different types of vector fields, with commentary on their mathematical properties and practical significance."
      ]
    },
    {
      "cell_type": "code",
      "execution_count": null,
      "metadata": {},
      "outputs": [],
      "source": [
        "import numpy as np\nimport matplotlib.pyplot as plt\nimport sympy as sp\nfrom mpl_toolkits.mplot3d import Axes3D\n\ndef vector_fields():\n    \"\"\"\n    Explore different types of vector fields.\n    Types:\n    1. Conservative: F = [x, y] (gradient of f(x,y) = (x^2 + y^2)/2)\n    2. Rotational: F = [-y, x] (curl = 2, represents rotation)\n    3. Radial: F = [x/r, y/r] (unit vectors pointing outward)\n    \"\"\"\n    \n    # Example 1: Conservative vector field F = [x, y]\n    # This is the gradient of f(x,y) = (x^2 + y^2)/2\n    def conservative_field(x, y):\n        return x, y\n    \n    # Example 2: Rotational vector field F = [-y, x]\n    # This has curl = 2, representing counterclockwise rotation\n    def rotational_field(x, y):\n        return -y, x\n    \n    # Example 3: Radial field F = [x/r, y/r] where r = sqrt(x^2 + y^2)\n    # Unit vectors pointing outward from origin\n    def radial_field(x, y):\n        r = np.sqrt(x**2 + y**2)\n        if r == 0:\n            return 0, 0\n        return x/r, y/r\n    \n    return conservative_field, rotational_field, radial_field\n\nconservative_field, rotational_field, radial_field = vector_fields()\n\n# Visualize vector fields\ndef visualize_vector_fields():\n    \"\"\"\n    Visualize different types of vector fields.\n    Each field demonstrates different geometric and physical properties.\n    \"\"\"\n    x = np.linspace(-2, 2, 10)\n    y = np.linspace(-2, 2, 10)\n    X, Y = np.meshgrid(x, y)\n    \n    fig, ((ax1, ax2), (ax3, ax4)) = plt.subplots(2, 2, figsize=(15, 12))\n    \n    # Conservative field: F = [x, y]\n    U1, V1 = conservative_field(X, Y)\n    ax1.quiver(X, Y, U1, V1, angles='xy', scale_units='xy', scale=1, alpha=0.7)\n    ax1.set_title('Conservative Field: F = [x, y]\\n(Gradient of f(x,y) = (x² + y²)/2)')\n    ax1.set_xlabel('x')\n    ax1.set_ylabel('y')\n    ax1.grid(True)\n    \n    # Rotational field: F = [-y, x]\n    U2, V2 = rotational_field(X, Y)\n    ax2.quiver(X, Y, U2, V2, angles='xy', scale_units='xy', scale=1, alpha=0.7)\n    ax2.set_title('Rotational Field: F = [-y, x]\\n(Curl = 2, counterclockwise rotation)')\n    ax2.set_xlabel('x')\n    ax2.set_ylabel('y')\n    ax2.grid(True)\n    \n    # Radial field: F = [x/r, y/r]\n    U3, V3 = radial_field(X, Y)\n    ax3.quiver(X, Y, U3, V3, angles='xy', scale_units='xy', scale=1, alpha=0.7)\n    ax3.set_title('Radial Field: F = [x/r, y/r]\\n(Unit vectors pointing outward)')\n    ax3.set_xlabel('x')\n    ax3.set_ylabel('y')\n    ax3.grid(True)\n    \n    # Gradient field of f(x,y) = x^2 + y^2\n    U4 = 2 * X\n    V4 = 2 * Y\n    ax4.quiver(X, Y, U4, V4, angles='xy', scale_units='xy', scale=1, alpha=0.7)\n    ax4.set_title('Gradient Field: ∇f where f = x² + y²\\n(Points toward steepest ascent)')\n    ax4.set_xlabel('x')\n    ax4.set_ylabel('y')\n    ax4.grid(True)\n    \n    plt.tight_layout()\n    plt.show()\n\nvisualize_vector_fields()\n"
      ]
    },
    {
      "cell_type": "markdown",
      "metadata": {},
      "source": [
        "**Explanation:**\n- The conservative field represents a gradient, indicating the direction of steepest ascent for a potential function.\n- The rotational field demonstrates curl, showing how vectors rotate around points.\n- The radial field shows unit vectors pointing outward, useful for understanding radial symmetry.\n- These visualizations help understand optimization landscapes and data flow in AI/ML models.\n\n### 3D Vector Fields\n\n#### Mathematical Background\nIn 3D, a vector field is a function \\( \\mathbf{F}: \\mathbb{R}^3 \\to \\mathbb{R}^3 \\) given by:\n\\[\n\\mathbf{F}(x, y, z) = [P(x, y, z), Q(x, y, z), R(x, y, z)]\n\\]\n3D vector fields are essential for modeling physical phenomena and high-dimensional optimization problems.\n\n**Relevance to AI/ML:**\n- High-dimensional optimization landscapes can be understood through 3D projections\n- Neural network weight spaces are high-dimensional vector fields\n- Understanding 3D geometry aids in visualizing complex model behavior\n\n### Python Implementation: 3D Vector Fields"
      ]
    },
    {
      "cell_type": "code",
      "execution_count": null,
      "metadata": {},
      "outputs": [],
      "source": [
        "def vector_fields_3d():\n    \"\"\"\n    Visualize 3D vector fields.\n    Examples:\n    1. Radial field: F = [x, y, z] (points outward from origin)\n    2. Rotational field: F = [-y, x, 0] (rotation around z-axis)\n    \"\"\"\n    \n    # Example: F = [x, y, z] (radial field in 3D)\n    def radial_field_3d(x, y, z):\n        return x, y, z\n    \n    # Example: F = [-y, x, 0] (rotational field around z-axis)\n    def rotational_field_3d(x, y, z):\n        return -y, x, 0\n    \n    return radial_field_3d, rotational_field_3d\n\nradial_field_3d, rotational_field_3d = vector_fields_3d()\n\n# Visualize 3D vector fields\ndef visualize_3d_vector_fields():\n    \"\"\"\n    Visualize 3D vector fields using 3D quiver plots.\n    These show how vectors vary in three-dimensional space.\n    \"\"\"\n    x = np.linspace(-2, 2, 5)\n    y = np.linspace(-2, 2, 5)\n    z = np.linspace(-2, 2, 5)\n    X, Y, Z = np.meshgrid(x, y, z)\n    \n    fig = plt.figure(figsize=(15, 6))\n    \n    # Radial field\n    ax1 = fig.add_subplot(121, projection='3d')\n    U1, V1, W1 = radial_field_3d(X, Y, Z)\n    ax1.quiver(X, Y, Z, U1, V1, W1, length=0.3, alpha=0.7)\n    ax1.set_title('3D Radial Field: F = [x, y, z]\\n(Points outward from origin)')\n    ax1.set_xlabel('x')\n    ax1.set_ylabel('y')\n    ax1.set_zlabel('z')\n    \n    # Rotational field\n    ax2 = fig.add_subplot(122, projection='3d')\n    U2, V2, W2 = rotational_field_3d(X, Y, Z)\n    ax2.quiver(X, Y, Z, U2, V2, W2, length=0.3, alpha=0.7)\n    ax2.set_title('3D Rotational Field: F = [-y, x, 0]\\n(Rotation around z-axis)')\n    ax2.set_xlabel('x')\n    ax2.set_ylabel('y')\n    ax2.set_zlabel('z')\n    \n    plt.tight_layout()\n    plt.show()\n\nvisualize_3d_vector_fields()\n"
      ]
    },
    {
      "cell_type": "markdown",
      "metadata": {},
      "source": [
        "**Explanation:**\n- 3D vector fields extend the concepts of 2D fields to higher dimensions.\n- The radial field shows how vectors point outward in all directions from the origin.\n- The rotational field demonstrates how vectors rotate around the z-axis, creating a cylindrical symmetry.\n- These concepts are fundamental for understanding high-dimensional optimization and neural network dynamics.\n\n## 7.2 Divergence and Curl\n\n### Mathematical Foundations\n\n#### Divergence\nThe divergence of a vector field \\( \\mathbf{F} = [P, Q, R] \\) measures the net flux out of a point:\n\\[\n\\nabla \\cdot \\mathbf{F} = \\frac{\\partial P}{\\partial x} + \\frac{\\partial Q}{\\partial y} + \\frac{\\partial R}{\\partial z}\n\\]\n- **Positive divergence:** Net outflow (source)\n- **Negative divergence:** Net inflow (sink)\n- **Zero divergence:** Incompressible flow\n\n#### Curl\nThe curl measures the rotational tendency of a vector field:\n\\[\n\\nabla \\times \\mathbf{F} = \\left[\\frac{\\partial R}{\\partial y} - \\frac{\\partial Q}{\\partial z}, \n                               \\frac{\\partial P}{\\partial z} - \\frac{\\partial R}{\\partial x},\n                               \\frac{\\partial Q}{\\partial x} - \\frac{\\partial P}{\\partial y}\\right]\n\\]\n\n**Relevance to AI/ML:**\n- Divergence helps understand data flow and information propagation in networks\n- Curl indicates rotational dynamics in optimization landscapes\n- These concepts aid in understanding model convergence and stability\n\n### Python Implementation: Divergence"
      ]
    },
    {
      "cell_type": "code",
      "execution_count": null,
      "metadata": {},
      "outputs": [],
      "source": [
        "def divergence_calculations():\n    \"\"\"\n    Calculate divergence of vector fields.\n    Divergence measures the net flux out of a point:\n    - Positive: source (net outflow)\n    - Negative: sink (net inflow)\n    - Zero: incompressible flow\n    \"\"\"\n    x, y, z = sp.symbols('x y z')\n    \n    # Example 1: F = [x, y, 0] (radial field in xy-plane)\n    F1 = [x, y, 0]\n    div_F1 = sp.diff(F1[0], x) + sp.diff(F1[1], y) + sp.diff(F1[2], z)\n    \n    # Example 2: F = [-y, x, 0] (rotational field)\n    F2 = [-y, x, 0]\n    div_F2 = sp.diff(F2[0], x) + sp.diff(F2[1], y) + sp.diff(F2[2], z)\n    \n    # Example 3: F = [x^2, y^2, z^2] (accelerating field)\n    F3 = [x**2, y**2, z**2]\n    div_F3 = sp.diff(F3[0], x) + sp.diff(F3[1], y) + sp.diff(F3[2], z)\n    \n    print(\"Divergence Calculations:\")\n    print(f\"F1 = {F1}\")\n    print(f\"∇ · F1 = {div_F1}\")\n    print(f\"\\nF2 = {F2}\")\n    print(f\"∇ · F2 = {div_F2}\")\n    print(f\"\\nF3 = {F3}\")\n    print(f\"∇ · F3 = {div_F3}\")\n    \n    return F1, F2, F3, div_F1, div_F2, div_F3\n\nF1, F2, F3, div_F1, div_F2, div_F3 = divergence_calculations()\n\n# Visualize divergence\ndef visualize_divergence():\n    \"\"\"\n    Visualize divergence as a scalar field.\n    Color intensity represents the magnitude and sign of divergence.\n    \"\"\"\n    x = np.linspace(-2, 2, 20)\n    y = np.linspace(-2, 2, 20)\n    X, Y = np.meshgrid(x, y)\n    \n    # Vector field F = [x, y, 0]\n    U = X\n    V = Y\n    \n    # Divergence ∇ · F = 2 (constant positive divergence)\n    divergence = 2 * np.ones_like(X)\n    \n    fig, (ax1, ax2) = plt.subplots(1, 2, figsize=(15, 6))\n    \n    # Vector field\n    ax1.quiver(X, Y, U, V, angles='xy', scale_units='xy', scale=1, alpha=0.7)\n    ax1.set_title('Vector Field: F = [x, y, 0]\\n(Radial field with positive divergence)')\n    ax1.set_xlabel('x')\n    ax1.set_ylabel('y')\n    ax1.grid(True)\n    \n    # Divergence\n    im = ax2.imshow(divergence, extent=[-2, 2, -2, 2], origin='lower', cmap='RdBu')\n    ax2.set_title('Divergence: ∇ · F = 2\\n(Constant positive divergence = source)')\n    ax2.set_xlabel('x')\n    ax2.set_ylabel('y')\n    plt.colorbar(im, ax=ax2)\n    \n    plt.tight_layout()\n    plt.show()\n\nvisualize_divergence()\n"
      ]
    },
    {
      "cell_type": "markdown",
      "metadata": {},
      "source": [
        "**Explanation:**\n- The divergence calculation shows how the vector field spreads or converges at each point.\n- Positive divergence indicates a source (vectors pointing outward), while negative divergence indicates a sink.\n- This concept is crucial for understanding data flow and information propagation in neural networks.\n\n### Python Implementation: Curl"
      ]
    },
    {
      "cell_type": "code",
      "execution_count": null,
      "metadata": {},
      "outputs": [],
      "source": [
        "def curl_calculations():\n    \"\"\"\n    Calculate curl of vector fields.\n    Curl measures the rotational tendency of a vector field:\n    - Non-zero curl: rotational motion\n    - Zero curl: irrotational (conservative) field\n    \"\"\"\n    x, y, z = sp.symbols('x y z')\n    \n    # Example 1: F = [-y, x, 0] (rotational field around z-axis)\n    F1 = [-y, x, 0]\n    curl_F1 = [\n        sp.diff(F1[2], y) - sp.diff(F1[1], z),  # ∂Fz/∂y - ∂Fy/∂z\n        sp.diff(F1[0], z) - sp.diff(F1[2], x),  # ∂Fx/∂z - ∂Fz/∂x\n        sp.diff(F1[1], x) - sp.diff(F1[0], y)   # ∂Fy/∂x - ∂Fx/∂y\n    ]\n    \n    # Example 2: F = [0, 0, x*y] (shear field)\n    F2 = [0, 0, x*y]\n    curl_F2 = [\n        sp.diff(F2[2], y) - sp.diff(F2[1], z),\n        sp.diff(F2[0], z) - sp.diff(F2[2], x),\n        sp.diff(F2[1], x) - sp.diff(F2[0], y)\n    ]\n    \n    # Example 3: F = [x, y, z] (radial field)\n    F3 = [x, y, z]\n    curl_F3 = [\n        sp.diff(F3[2], y) - sp.diff(F3[1], z),\n        sp.diff(F3[0], z) - sp.diff(F3[2], x),\n        sp.diff(F3[1], x) - sp.diff(F3[0], y)\n    ]\n    \n    print(\"Curl Calculations:\")\n    print(f\"F1 = {F1}\")\n    print(f\"∇ × F1 = {curl_F1}\")\n    print(f\"\\nF2 = {F2}\")\n    print(f\"∇ × F2 = {curl_F2}\")\n    print(f\"\\nF3 = {F3}\")\n    print(f\"∇ × F3 = {curl_F3}\")\n    \n    return F1, F2, F3, curl_F1, curl_F2, curl_F3\n\nF1, F2, F3, curl_F1, curl_F2, curl_F3 = curl_calculations()\n"
      ]
    },
    {
      "cell_type": "markdown",
      "metadata": {},
      "source": [
        "**Explanation:**\n- The curl calculation reveals the rotational nature of vector fields.\n- Non-zero curl indicates rotational motion, while zero curl suggests a conservative field.\n- Understanding curl helps interpret optimization dynamics and model convergence patterns in AI/ML.\n\n## 7.3 Line Integrals\n\n### Scalar Line Integrals"
      ]
    },
    {
      "cell_type": "code",
      "execution_count": null,
      "metadata": {},
      "outputs": [],
      "source": [
        "def line_integrals():\n    \"\"\"Calculate line integrals\"\"\"\n    \n    # Example: Line integral of f(x,y) = x + y along the curve C: x = t, y = t², 0 ≤ t ≤ 1\n    \n    t = sp.Symbol('t')\n    \n    # Parametric equations of the curve\n    x = t\n    y = t**2\n    \n    # Function to integrate\n    f = x + y\n    \n    # Arc length element: ds = sqrt((dx/dt)² + (dy/dt)²) dt\n    dx_dt = sp.diff(x, t)\n    dy_dt = sp.diff(y, t)\n    ds = sp.sqrt(dx_dt**2 + dy_dt**2)\n    \n    # Line integral: ∫f(x,y) ds = ∫f(x(t), y(t)) * ds/dt dt\n    integrand = f * ds\n    line_integral = sp.integrate(integrand, (t, 0, 1))\n    \n    print(\"Line Integral:\")\n    print(f\"Curve C: x = {x}, y = {y}, 0 ≤ t ≤ 1\")\n    print(f\"Function: f(x,y) = {f}\")\n    print(f\"Arc length element: ds = {ds} dt\")\n    print(f\"Integrand: f(x(t), y(t)) * ds/dt = {integrand}\")\n    print(f\"Line integral: ∫f(x,y) ds = {line_integral}\")\n    \n    return x, y, f, line_integral\n\nx, y, f, line_integral = line_integrals()\n\n# Visualize line integral\ndef visualize_line_integral():\n    t_vals = np.linspace(0, 1, 100)\n    x_vals = t_vals\n    y_vals = t_vals**2\n    f_vals = x_vals + y_vals\n    \n    fig, (ax1, ax2) = plt.subplots(1, 2, figsize=(15, 6))\n    \n    # Curve in xy-plane\n    ax1.plot(x_vals, y_vals, 'b-', linewidth=3, label='Curve C: x = t, y = t²')\n    ax1.scatter(x_vals[0], y_vals[0], c='green', s=100, label='Start (0,0)')\n    ax1.scatter(x_vals[-1], y_vals[-1], c='red', s=100, label='End (1,1)')\n    ax1.set_xlabel('x')\n    ax1.set_ylabel('y')\n    ax1.set_title('Curve C in xy-plane')\n    ax1.legend()\n    ax1.grid(True)\n    \n    # Function values along the curve\n    ax2.plot(t_vals, f_vals, 'r-', linewidth=2, label='f(x(t), y(t)) = t + t²')\n    ax2.fill_between(t_vals, f_vals, alpha=0.3, color='red', \n                     label=f'Area = Line integral = {line_integral:.4f}')\n    ax2.set_xlabel('Parameter t')\n    ax2.set_ylabel('f(x(t), y(t))')\n    ax2.set_title('Function Values Along Curve')\n    ax2.legend()\n    ax2.grid(True)\n    \n    plt.tight_layout()\n    plt.show()\n\nvisualize_line_integral()\n"
      ]
    },
    {
      "cell_type": "markdown",
      "metadata": {},
      "source": [
        "### Vector Line Integrals (Work)"
      ]
    },
    {
      "cell_type": "code",
      "execution_count": null,
      "metadata": {},
      "outputs": [],
      "source": [
        "def vector_line_integrals():\n    \"\"\"Calculate vector line integrals (work)\"\"\"\n    \n    # Example: Work done by F = [x, y] along the curve C: x = t, y = t², 0 ≤ t ≤ 1\n    \n    t = sp.Symbol('t')\n    \n    # Vector field\n    F_x = x\n    F_y = y\n    \n    # Parametric curve\n    x = t\n    y = t**2\n    \n    # Tangent vector: dr/dt = [dx/dt, dy/dt]\n    dx_dt = sp.diff(x, t)\n    dy_dt = sp.diff(y, t)\n    \n    # Vector line integral: ∫F · dr = ∫F(x(t), y(t)) · [dx/dt, dy/dt] dt\n    work_integrand = F_x.subs([(sp.Symbol('x'), x), (sp.Symbol('y'), y)]) * dx_dt + \\\n                    F_y.subs([(sp.Symbol('x'), x), (sp.Symbol('y'), y)]) * dy_dt\n    \n    work = sp.integrate(work_integrand, (t, 0, 1))\n    \n    print(\"Vector Line Integral (Work):\")\n    print(f\"Vector field: F = [{F_x}, {F_y}]\")\n    print(f\"Curve C: x = {x}, y = {y}, 0 ≤ t ≤ 1\")\n    print(f\"Tangent vector: dr/dt = [{dx_dt}, {dy_dt}]\")\n    print(f\"Integrand: F · dr/dt = {work_integrand}\")\n    print(f\"Work: ∫F · dr = {work}\")\n    \n    return F_x, F_y, work\n\nF_x, F_y, work = vector_line_integrals()\n\n# Visualize vector line integral\ndef visualize_vector_line_integral():\n    t_vals = np.linspace(0, 1, 20)\n    x_vals = t_vals\n    y_vals = t_vals**2\n    \n    # Vector field values along the curve\n    F_x_vals = x_vals\n    F_y_vals = y_vals\n    \n    # Tangent vectors\n    dx_dt_vals = np.ones_like(t_vals)\n    dy_dt_vals = 2 * t_vals\n    \n    fig, (ax1, ax2) = plt.subplots(1, 2, figsize=(15, 6))\n    \n    # Vector field and curve\n    x_field = np.linspace(0, 1, 10)\n    y_field = np.linspace(0, 1, 10)\n    X_field, Y_field = np.meshgrid(x_field, y_field)\n    U_field = X_field\n    V_field = Y_field\n    \n    ax1.quiver(X_field, Y_field, U_field, V_field, angles='xy', scale_units='xy', scale=1, alpha=0.5)\n    ax1.plot(x_vals, y_vals, 'r-', linewidth=3, label='Curve C')\n    \n    # Vector field at curve points\n    ax1.quiver(x_vals, y_vals, F_x_vals, F_y_vals, angles='xy', scale_units='xy', scale=0.5, \n               color='blue', alpha=0.7, label='Vector field F')\n    \n    ax1.set_xlabel('x')\n    ax1.set_ylabel('y')\n    ax1.set_title('Vector Field and Curve')\n    ax1.legend()\n    ax1.grid(True)\n    \n    # Work calculation\n    work_vals = F_x_vals * dx_dt_vals + F_y_vals * dy_dt_vals\n    ax2.plot(t_vals, work_vals, 'g-', linewidth=2, label='F · dr/dt')\n    ax2.fill_between(t_vals, work_vals, alpha=0.3, color='green', \n                     label=f'Work = {work:.4f}')\n    ax2.set_xlabel('Parameter t')\n    ax2.set_ylabel('F · dr/dt')\n    ax2.set_title('Work Calculation')\n    ax2.legend()\n    ax2.grid(True)\n    \n    plt.tight_layout()\n    plt.show()\n\nvisualize_vector_line_integral()\n"
      ]
    },
    {
      "cell_type": "markdown",
      "metadata": {},
      "source": [
        "## 7.4 Conservative Vector Fields\n\n### Definition and Properties"
      ]
    },
    {
      "cell_type": "code",
      "execution_count": null,
      "metadata": {},
      "outputs": [],
      "source": [
        "def conservative_fields():\n    \"\"\"Analyze conservative vector fields\"\"\"\n    \n    x, y = sp.symbols('x y')\n    \n    # Example 1: Conservative field F = [x, y]\n    F1 = [x, y]\n    \n    # Check if conservative: ∂Fy/∂x = ∂Fx/∂y\n    dF1y_dx = sp.diff(F1[1], x)\n    dF1x_dy = sp.diff(F1[0], y)\n    \n    is_conservative1 = dF1y_dx == dF1x_dy\n    \n    # Potential function: ∇φ = F\n    # ∂φ/∂x = x, ∂φ/∂y = y\n    # φ = x²/2 + y²/2 + C\n    phi1 = x**2/2 + y**2/2\n    \n    # Example 2: Non-conservative field F = [-y, x]\n    F2 = [-y, x]\n    dF2y_dx = sp.diff(F2[1], x)\n    dF2x_dy = sp.diff(F2[0], y)\n    is_conservative2 = dF2y_dx == dF2x_dy\n    \n    print(\"Conservative Vector Fields:\")\n    print(f\"F1 = {F1}\")\n    print(f\"∂F1y/∂x = {dF1y_dx}\")\n    print(f\"∂F1x/∂y = {dF1x_dy}\")\n    print(f\"Conservative: {is_conservative1}\")\n    print(f\"Potential function: φ = {phi1}\")\n    \n    print(f\"\\nF2 = {F2}\")\n    print(f\"∂F2y/∂x = {dF2y_dx}\")\n    print(f\"∂F2x/∂y = {dF2x_dy}\")\n    print(f\"Conservative: {is_conservative2}\")\n    \n    return F1, F2, phi1, is_conservative1, is_conservative2\n\nF1, F2, phi1, is_conservative1, is_conservative2 = conservative_fields()\n\n# Visualize conservative vs non-conservative fields\ndef visualize_conservative_fields():\n    x = np.linspace(-2, 2, 15)\n    y = np.linspace(-2, 2, 15)\n    X, Y = np.meshgrid(x, y)\n    \n    fig, (ax1, ax2) = plt.subplots(1, 2, figsize=(15, 6))\n    \n    # Conservative field F = [x, y]\n    U1 = X\n    V1 = Y\n    ax1.quiver(X, Y, U1, V1, angles='xy', scale_units='xy', scale=1, alpha=0.7)\n    ax1.set_title('Conservative Field: F = [x, y]\\n∇ × F = 0')\n    ax1.set_xlabel('x')\n    ax1.set_ylabel('y')\n    ax1.grid(True)\n    \n    # Non-conservative field F = [-y, x]\n    U2 = -Y\n    V2 = X\n    ax2.quiver(X, Y, U2, V2, angles='xy', scale_units='xy', scale=1, alpha=0.7)\n    ax2.set_title('Non-conservative Field: F = [-y, x]\\n∇ × F ≠ 0')\n    ax2.set_xlabel('x')\n    ax2.set_ylabel('y')\n    ax2.grid(True)\n    \n    plt.tight_layout()\n    plt.show()\n\nvisualize_conservative_fields()\n"
      ]
    },
    {
      "cell_type": "markdown",
      "metadata": {},
      "source": [
        "## 7.5 Applications in Physics\n\n### Electric and Magnetic Fields"
      ]
    },
    {
      "cell_type": "code",
      "execution_count": null,
      "metadata": {},
      "outputs": [],
      "source": [
        "def electromagnetic_fields():\n    \"\"\"Model electromagnetic fields using vector calculus\"\"\"\n    \n    # Example: Electric field of a point charge\n    # E = k * q * r / |r|³ where r = [x, y, z]\n    \n    def electric_field_point_charge(x, y, z, q=1, k=1):\n        r_mag = np.sqrt(x**2 + y**2 + z**2)\n        if r_mag == 0:\n            return 0, 0, 0\n        return k * q * x / r_mag**3, k * q * y / r_mag**3, k * q * z / r_mag**3\n    \n    # Example: Magnetic field of a current-carrying wire\n    # B = μ₀ * I / (2πr) * [-y/r, x/r, 0] where r = sqrt(x² + y²)\n    \n    def magnetic_field_wire(x, y, z, I=1, mu0=1):\n        r = np.sqrt(x**2 + y**2)\n        if r == 0:\n            return 0, 0, 0\n        return -mu0 * I * y / (2 * np.pi * r**2), mu0 * I * x / (2 * np.pi * r**2), 0\n    \n    return electric_field_point_charge, magnetic_field_wire\n\nelectric_field_point_charge, magnetic_field_wire = electromagnetic_fields()\n\n# Visualize electromagnetic fields\ndef visualize_electromagnetic_fields():\n    x = np.linspace(-2, 2, 10)\n    y = np.linspace(-2, 2, 10)\n    z = 0  # 2D slice\n    X, Y = np.meshgrid(x, y)\n    \n    fig = plt.figure(figsize=(15, 6))\n    \n    # Electric field\n    ax1 = fig.add_subplot(121)\n    E_x, E_y, E_z = electric_field_point_charge(X, Y, z)\n    ax1.quiver(X, Y, E_x, E_y, angles='xy', scale_units='xy', scale=0.5, alpha=0.7)\n    ax1.scatter(0, 0, c='red', s=200, label='Point charge')\n    ax1.set_title('Electric Field of Point Charge')\n    ax1.set_xlabel('x')\n    ax1.set_ylabel('y')\n    ax1.legend()\n    ax1.grid(True)\n    \n    # Magnetic field\n    ax2 = fig.add_subplot(122)\n    B_x, B_y, B_z = magnetic_field_wire(X, Y, z)\n    ax2.quiver(X, Y, B_x, B_y, angles='xy', scale_units='xy', scale=0.5, alpha=0.7)\n    ax2.scatter(0, 0, c='blue', s=200, marker='o', label='Current wire')\n    ax2.set_title('Magnetic Field of Current Wire')\n    ax2.set_xlabel('x')\n    ax2.set_ylabel('y')\n    ax2.legend()\n    ax2.grid(True)\n    \n    plt.tight_layout()\n    plt.show()\n\nvisualize_electromagnetic_fields()\n"
      ]
    },
    {
      "cell_type": "markdown",
      "metadata": {},
      "source": [
        "## 7.6 Applications in Machine Learning\n\n### Gradient Flows"
      ]
    },
    {
      "cell_type": "code",
      "execution_count": null,
      "metadata": {},
      "outputs": [],
      "source": [
        "def gradient_flows():\n    \"\"\"Implement gradient flows for optimization\"\"\"\n    \n    # Example: Gradient flow for f(x,y) = x² + y²\n    def objective_function(x, y):\n        return x**2 + y**2\n    \n    def gradient_function(x, y):\n        return np.array([2*x, 2*y])\n    \n    # Gradient flow: dx/dt = -∇f(x)\n    def gradient_flow(initial_point, dt=0.01, steps=1000):\n        x, y = initial_point\n        trajectory = [(x, y)]\n        \n        for i in range(steps):\n            grad = gradient_function(x, y)\n            x = x - dt * grad[0]\n            y = y - dt * grad[1]\n            trajectory.append((x, y))\n            \n            # Stop if gradient is small\n            if np.linalg.norm(grad) < 1e-6:\n                break\n        \n        return np.array(trajectory)\n    \n    # Run gradient flow\n    initial_point = (2.0, 2.0)\n    trajectory = gradient_flow(initial_point)\n    \n    print(\"Gradient Flow:\")\n    print(f\"Initial point: {initial_point}\")\n    print(f\"Final point: {trajectory[-1]}\")\n    print(f\"Final value: {objective_function(trajectory[-1, 0], trajectory[-1, 1]):.6f}\")\n    print(f\"Number of steps: {len(trajectory)}\")\n    \n    return trajectory, objective_function\n\ntrajectory, objective_function = gradient_flows()\n\n# Visualize gradient flow\ndef visualize_gradient_flow():\n    x = np.linspace(-3, 3, 100)\n    y = np.linspace(-3, 3, 100)\n    X, Y = np.meshgrid(x, y)\n    Z = X**2 + Y**2\n    \n    plt.figure(figsize=(10, 8))\n    \n    # Contour plot\n    contour = plt.contour(X, Y, Z, levels=20)\n    plt.clabel(contour, inline=True, fontsize=8)\n    \n    # Gradient flow trajectory\n    plt.plot(trajectory[:, 0], trajectory[:, 1], 'r-', linewidth=2, label='Gradient flow')\n    plt.scatter(trajectory[0, 0], trajectory[0, 1], c='red', s=100, label='Start')\n    plt.scatter(trajectory[-1, 0], trajectory[-1, 1], c='green', s=100, label='End')\n    \n    # Gradient field\n    x_field = np.linspace(-3, 3, 10)\n    y_field = np.linspace(-3, 3, 10)\n    X_field, Y_field = np.meshgrid(x_field, y_field)\n    U_field = 2 * X_field\n    V_field = 2 * Y_field\n    \n    plt.quiver(X_field, Y_field, U_field, V_field, angles='xy', scale_units='xy', scale=1, alpha=0.5)\n    \n    plt.xlabel('x')\n    plt.ylabel('y')\n    plt.title('Gradient Flow on f(x,y) = x² + y²')\n    plt.legend()\n    plt.grid(True)\n    plt.show()\n\nvisualize_gradient_flow()\n"
      ]
    },
    {
      "cell_type": "markdown",
      "metadata": {},
      "source": [
        "## Summary\n\n- **Vector Fields**: Functions that assign vectors to points in space\n- **Divergence**: Measures the \"outflow\" of a vector field at a point\n- **Curl**: Measures the \"rotation\" of a vector field at a point\n- **Line Integrals**: Integrals along curves, both scalar and vector\n- **Conservative Fields**: Vector fields that are gradients of scalar functions\n- **Applications**: Electromagnetism, fluid dynamics, gradient flows in optimization\n\n## Next Steps\n\nUnderstanding vector calculus enables you to work with complex physical systems, understand advanced optimization algorithms, and model phenomena in multiple dimensions. The next section covers numerical methods for when analytical solutions are not available."
      ]
    }
  ],
  "metadata": {
    "kernelspec": {
      "display_name": "Python 3",
      "language": "python",
      "name": "python3"
    },
    "language_info": {
      "codemirror_mode": {
        "name": "ipython",
        "version": 3
      },
      "file_extension": ".py",
      "mimetype": "text/x-python",
      "name": "python",
      "nbconvert_exporter": "python",
      "pygments_lexer": "ipython3",
      "version": "3.8.0"
    }
  },
  "nbformat": 4,
  "nbformat_minor": 4
}