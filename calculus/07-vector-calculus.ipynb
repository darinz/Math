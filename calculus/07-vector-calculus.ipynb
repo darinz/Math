{
    "cells": [
     {
      "cell_type": "markdown",
      "metadata": {},
      "source": [
       "# Vector Calculus\n",
       "\n",
       "[![Python](https://img.shields.io/badge/Python-3.8+-blue.svg)](https://www.python.org/)\n",
       "[![NumPy](https://img.shields.io/badge/NumPy-1.21+-green.svg)](https://numpy.org/)\n",
       "[![Matplotlib](https://img.shields.io/badge/Matplotlib-3.5+-orange.svg)](https://matplotlib.org/)\n",
       "[![SymPy](https://img.shields.io/badge/SymPy-1.10+-purple.svg)](https://www.sympy.org/)\n",
       "\n",
       "## Introduction\n",
       "\n",
       "Vector calculus extends calculus to vector fields and is essential for understanding gradients, divergence, and curl in machine learning."
      ]
     },
     {
      "cell_type": "code",
      "execution_count": null,
      "metadata": {},
      "outputs": [],
      "source": [
       "import numpy as np\n",
       "import matplotlib.pyplot as plt\n",
       "import sympy as sp\n",
       "\n",
       "plt.style.use('seaborn-v0_8')\n",
       "plt.rcParams['figure.figsize'] = (12, 8)"
      ]
     },
     {
      "cell_type": "markdown",
      "metadata": {},
      "source": [
       "## 7.1 Gradient Fields\n",
       "\n",
       "The gradient of a scalar function is a vector field that points in the direction of steepest ascent."
      ]
     },
     {
      "cell_type": "code",
      "execution_count": null,
      "metadata": {},
      "outputs": [],
      "source": [
       "# Gradient field visualization\n",
       "def scalar_function(x, y):\n",
       "    return x**2 + y**2\n",
       "\n",
       "def gradient_x(x, y):\n",
       "    return 2*x\n",
       "\n",
       "def gradient_y(x, y):\n",
       "    return 2*y\n",
       "\n",
       "# Create grid\n",
       "x = np.linspace(-3, 3, 20)\n",
       "y = np.linspace(-3, 3, 20)\n",
       "X, Y = np.meshgrid(x, y)\n",
       "\n",
       "# Calculate gradient\n",
       "U = gradient_x(X, Y)\n",
       "V = gradient_y(X, Y)\n",
       "\n",
       "# Plot\n",
       "plt.figure(figsize=(10, 8))\n",
       "plt.quiver(X, Y, U, V, alpha=0.6)\n",
       "plt.contour(X, Y, scalar_function(X, Y), levels=20, alpha=0.5)\n",
       "plt.xlabel('x')\n",
       "plt.ylabel('y')\n",
       "plt.title('Gradient Field of f(x,y) = x² + y²')\n",
       "plt.grid(True, alpha=0.3)\n",
       "plt.show()"
      ]
     }
    ],
    "metadata": {
     "kernelspec": {
      "display_name": "Python 3",
      "language": "python",
      "name": "python3"
     },
     "language_info": {
      "codemirror_mode": {
       "name": "ipython",
       "version": 3
      },
      "file_extension": ".py",
      "mimetype": "text/x-python",
      "name": "python",
      "nbconvert_exporter": "python",
      "pygments_lexer": "ipython3",
      "version": "3.8.5"
     }
    },
    "nbformat": 4,
    "nbformat_minor": 4
   }