{
    "cells": [
     {
      "cell_type": "markdown",
      "metadata": {},
      "source": [
       "# Multivariable Calculus\n",
       "\n",
       "[![Python](https://img.shields.io/badge/Python-3.8+-blue.svg)](https://www.python.org/)\n",
       "[![NumPy](https://img.shields.io/badge/NumPy-1.21+-green.svg)](https://numpy.org/)\n",
       "[![Matplotlib](https://img.shields.io/badge/Matplotlib-3.5+-orange.svg)](https://matplotlib.org/)\n",
       "[![SymPy](https://img.shields.io/badge/SymPy-1.10+-purple.svg)](https://www.sympy.org/)\n",
       "\n",
       "## Introduction\n",
       "\n",
       "Multivariable calculus extends calculus concepts to functions of multiple variables, essential for machine learning and optimization."
      ]
     },
     {
      "cell_type": "code",
      "execution_count": null,
      "metadata": {},
      "outputs": [],
      "source": [
       "import numpy as np\n",
       "import matplotlib.pyplot as plt\n",
       "from mpl_toolkits.mplot3d import Axes3D\n",
       "import sympy as sp\n",
       "\n",
       "plt.style.use('seaborn-v0_8')\n",
       "plt.rcParams['figure.figsize'] = (12, 8)"
      ]
     },
     {
      "cell_type": "markdown",
      "metadata": {},
      "source": [
       "## 6.1 Partial Derivatives\n",
       "\n",
       "Partial derivatives measure how a function changes with respect to one variable while holding others constant."
      ]
     },
     {
      "cell_type": "code",
      "execution_count": null,
      "metadata": {},
      "outputs": [],
      "source": [
       "# Example: f(x,y) = x² + y²\n",
       "def f(x, y):\n",
       "    return x**2 + y**2\n",
       "\n",
       "def df_dx(x, y):\n",
       "    return 2*x\n",
       "\n",
       "def df_dy(x, y):\n",
       "    return 2*y\n",
       "\n",
       "# Create 3D visualization\n",
       "x = np.linspace(-3, 3, 50)\n",
       "y = np.linspace(-3, 3, 50)\n",
       "X, Y = np.meshgrid(x, y)\n",
       "Z = f(X, Y)\n",
       "\n",
       "fig = plt.figure(figsize=(15, 5))\n",
       "\n",
       "# 3D surface\n",
       "ax1 = fig.add_subplot(1, 3, 1, projection='3d')\n",
       "surf = ax1.plot_surface(X, Y, Z, cmap='viridis')\n",
       "ax1.set_title('f(x,y) = x² + y²')\n",
       "\n",
       "# Contour plot\n",
       "ax2 = fig.add_subplot(1, 3, 2)\n",
       "contour = ax2.contour(X, Y, Z, levels=20)\n",
       "ax2.clabel(contour, inline=True)\n",
       "ax2.set_title('Contour Plot')\n",
       "\n",
       "# Gradient vectors\n",
       "ax3 = fig.add_subplot(1, 3, 3)\n",
       "ax3.contour(X, Y, Z, levels=20)\n",
       "for i in range(0, 50, 10):\n",
       "    for j in range(0, 50, 10):\n",
       "        grad_x = df_dx(X[i,j], Y[i,j])\n",
       "        grad_y = df_dy(X[i,j], Y[i,j])\n",
       "        ax3.arrow(X[i,j], Y[i,j], grad_x*0.1, grad_y*0.1, \n",
       "                  head_width=0.1, head_length=0.1, fc='red', ec='red')\n",
       "ax3.set_title('Gradient Vectors')\n",
       "\n",
       "plt.tight_layout()\n",
       "plt.show()"
      ]
     }
    ],
    "metadata": {
     "kernelspec": {
      "display_name": "Python 3",
      "language": "python",
      "name": "python3"
     },
     "language_info": {
      "codemirror_mode": {
       "name": "ipython",
       "version": 3
      },
      "file_extension": ".py",
      "mimetype": "text/x-python",
      "name": "python",
      "nbconvert_exporter": "python",
      "pygments_lexer": "ipython3",
      "version": "3.8.5"
     }
    },
    "nbformat": 4,
    "nbformat_minor": 4
   }