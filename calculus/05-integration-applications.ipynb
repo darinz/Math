{
  "cells": [
    {
      "cell_type": "markdown",
      "metadata": {},
      "source": [
        "# Applications of Integration\n\n[![Python](https://img.shields.io/badge/Python-3.8+-blue.svg)](https://www.python.org/)\n[![NumPy](https://img.shields.io/badge/NumPy-1.21+-green.svg)](https://numpy.org/)\n[![Matplotlib](https://img.shields.io/badge/Matplotlib-3.5+-orange.svg)](https://matplotlib.org/)\n[![SymPy](https://img.shields.io/badge/SymPy-1.10+-purple.svg)](https://www.sympy.org/)\n[![SciPy](https://img.shields.io/badge/SciPy-1.7+-red.svg)](https://scipy.org/)\n\n## Introduction\n\nIntegration is a fundamental tool for quantifying accumulation, area, and change. In AI/ML and data science, integration is used in probability, statistics, signal processing, and to compute expectations, areas under curves (such as ROC/AUC), and more. This section explores practical applications of integration, with a focus on mathematical rigor, intuition, and real-world relevance.\n\n## 5.1 Area Between Curves\n\n### Mathematical Foundations\n\nThe area between two curves \\( y = f(x) \\) and \\( y = g(x) \\) over an interval \\([a, b]\\) is given by:\n\\[\nA = \\int_a^b |f(x) - g(x)| \\, dx\n\\]\nIf \\( f(x) \\geq g(x) \\) on \\([a, b]\\), then:\n\\[\nA = \\int_a^b (f(x) - g(x)) \\, dx\n\\]\nThis measures the net \"vertical distance\" between the curves, and is widely used in probability (e.g., comparing distributions), economics, and model evaluation (e.g., AUC in classification).\n\n**Relevance to AI/ML:**\n- Calculating the area under a curve (AUC) is a standard metric for classifier performance.\n- Integrals are used to compute expected values, probabilities, and normalization constants in probabilistic models.\n- Visualizing areas helps interpret model predictions and data distributions.\n\n### Python Implementation: Area Between Curves\n\nThe following code demonstrates how to compute and visualize the area between two curves, with step-by-step commentary."
      ]
    },
    {
      "cell_type": "code",
      "execution_count": null,
      "metadata": {},
      "outputs": [],
      "source": [
        "import numpy as np\nimport matplotlib.pyplot as plt\nimport sympy as sp\nfrom scipy import integrate\n\ndef area_between_curves():\n    \"\"\"\n    Calculate area between curves using integration.\n    Steps:\n    1. Define the functions symbolically.\n    2. Find intersection points (limits of integration).\n    3. Integrate the difference to find the area.\n    4. Repeat for trigonometric functions.\n    \"\"\"\n    # Example 1: Area between y = x^2 and y = x\n    x = sp.Symbol('x')\n    f1 = x**2  # Lower function\n    f2 = x     # Upper function\n    \n    # Find intersection points (solve x^2 = x)\n    intersection_points = sp.solve(f1 - f2, x)\n    print(f\"Intersection points: {intersection_points}\")\n    \n    # Calculate area: ∫[f2(x) - f1(x)]dx from a to b\n    a, b = intersection_points[0], intersection_points[1]\n    area = sp.integrate(f2 - f1, (x, a, b))\n    print(f\"Area between curves: {area}\")\n    \n    # Example 2: Area between y = sin(x) and y = cos(x) from 0 to π\n    f3 = sp.sin(x)\n    f4 = sp.cos(x)\n    \n    # Find where sin(x) = cos(x) in [0, π]\n    intersection_points2 = sp.solve(f3 - f4, x)\n    intersection_points2 = [p for p in intersection_points2 if 0 <= p <= sp.pi]\n    print(f\"Intersection points in [0, π]: {intersection_points2}\")\n    \n    # Calculate area\n    area2 = sp.integrate(abs(f3 - f4), (x, 0, sp.pi))\n    print(f\"Area between sin(x) and cos(x) from 0 to π: {area2}\")\n    \n    return f1, f2, f3, f4, intersection_points, area, area2\n\nf1, f2, f3, f4, intersection_points, area, area2 = area_between_curves()\n\n# Visualize area between curves\ndef visualize_area_between_curves():\n    fig, (ax1, ax2) = plt.subplots(1, 2, figsize=(15, 6))\n    \n    # Example 1: y = x^2 and y = x\n    x_vals = np.linspace(-0.5, 1.5, 1000)\n    y1_vals = x_vals**2\n    y2_vals = x_vals\n    \n    ax1.plot(x_vals, y1_vals, 'b-', linewidth=2, label='y = x^2')\n    ax1.plot(x_vals, y2_vals, 'r-', linewidth=2, label='y = x')\n    \n    # Fill area between curves\n    mask = (x_vals >= intersection_points[0]) & (x_vals <= intersection_points[1])\n    ax1.fill_between(x_vals[mask], y1_vals[mask], y2_vals[mask], \n                     alpha=0.3, color='green', label=f'Area = {area}')\n    \n    ax1.set_xlabel('x')\n    ax1.set_ylabel('y')\n    ax1.set_title('Area Between y = x^2 and y = x')\n    ax1.legend()\n    ax1.grid(True)\n    \n    # Example 2: y = sin(x) and y = cos(x)\n    x_vals2 = np.linspace(0, np.pi, 1000)\n    y3_vals = np.sin(x_vals2)\n    y4_vals = np.cos(x_vals2)\n    \n    ax2.plot(x_vals2, y3_vals, 'b-', linewidth=2, label='y = sin(x)')\n    ax2.plot(x_vals2, y4_vals, 'r-', linewidth=2, label='y = cos(x)')\n    \n    # Fill area between curves\n    ax2.fill_between(x_vals2, np.minimum(y3_vals, y4_vals), np.maximum(y3_vals, y4_vals), \n                     alpha=0.3, color='green', label=f'Area = {area2:.4f}')\n    \n    ax2.set_xlabel('x')\n    ax2.set_ylabel('y')\n    ax2.set_title('Area Between y = sin(x) and y = cos(x)')\n    ax2.legend()\n    ax2.grid(True)\n    \n    plt.tight_layout()\n    plt.show()\n\nvisualize_area_between_curves()\n"
      ]
    },
    {
      "cell_type": "markdown",
      "metadata": {},
      "source": [
        "**Explanation:**\n- The functions are defined symbolically, allowing for exact intersection and area calculations.\n- The area is computed as the definite integral of the difference between the upper and lower functions.\n- Visualization highlights the region of interest, making the concept of \"area between curves\" concrete.\n- This approach is directly applicable to evaluating model performance (AUC), comparing distributions, and more in AI/ML.\n\n## 5.2 Volume Calculations\n\n### Solids of Revolution"
      ]
    },
    {
      "cell_type": "code",
      "execution_count": null,
      "metadata": {},
      "outputs": [],
      "source": [
        "def volume_of_revolution():\n    \"\"\"Calculate volumes of solids of revolution\"\"\"\n    \n    # Example 1: Volume of revolution of y = x² from x = 0 to x = 2 around x-axis\n    x = sp.Symbol('x')\n    f = x**2\n    a, b = 0, 2\n    \n    # Volume: V = π∫[f(x)]²dx\n    volume = sp.integrate(sp.pi * f**2, (x, a, b))\n    print(f\"Volume of revolution of y = x² from x = 0 to x = 2: {volume}\")\n    \n    # Example 2: Volume of revolution of y = √x from x = 0 to x = 4 around y-axis\n    f2 = sp.sqrt(x)\n    a2, b2 = 0, 4\n    \n    # Volume around y-axis: V = 2π∫x*f(x)dx\n    volume2 = sp.integrate(2 * sp.pi * x * f2, (x, a2, b2))\n    print(f\"Volume of revolution of y = √x from x = 0 to x = 4 around y-axis: {volume2}\")\n    \n    # Example 3: Volume between two curves rotated around x-axis\n    # y = x and y = x² from x = 0 to x = 1\n    f3 = x\n    f4 = x**2\n    a3, b3 = 0, 1\n    \n    # Volume: V = π∫[f3(x)² - f4(x)²]dx\n    volume3 = sp.integrate(sp.pi * (f3**2 - f4**2), (x, a3, b3))\n    print(f\"Volume between y = x and y = x² rotated around x-axis: {volume3}\")\n    \n    return f, f2, f3, f4, volume, volume2, volume3\n\nf, f2, f3, f4, volume, volume2, volume3 = volume_of_revolution()\n\n# Visualize solids of revolution\ndef visualize_solids_of_revolution():\n    from mpl_toolkits.mplot3d import Axes3D\n    \n    fig = plt.figure(figsize=(15, 5))\n    \n    # Example 1: y = x² rotated around x-axis\n    ax1 = fig.add_subplot(131, projection='3d')\n    \n    x = np.linspace(0, 2, 50)\n    y = np.linspace(-2, 2, 50)\n    X, Y = np.meshgrid(x, y)\n    Z = Y**2\n    \n    # Create surface of revolution\n    theta = np.linspace(0, 2*np.pi, 50)\n    X_rev = X\n    Y_rev = Y * np.cos(theta[:, np.newaxis, np.newaxis])\n    Z_rev = Y * np.sin(theta[:, np.newaxis, np.newaxis])\n    \n    ax1.plot_surface(X_rev, Y_rev, Z_rev, alpha=0.7, cmap='viridis')\n    ax1.set_title(f'Volume = {volume:.2f}')\n    ax1.set_xlabel('x')\n    ax1.set_ylabel('y')\n    ax1.set_zlabel('z')\n    \n    # Example 2: y = √x rotated around y-axis\n    ax2 = fig.add_subplot(132, projection='3d')\n    \n    x = np.linspace(0, 4, 50)\n    y = np.linspace(0, 2, 50)\n    X, Y = np.meshgrid(x, y)\n    Z = np.sqrt(X)\n    \n    # Create surface of revolution around y-axis\n    theta = np.linspace(0, 2*np.pi, 50)\n    X_rev = X * np.cos(theta[:, np.newaxis, np.newaxis])\n    Y_rev = Y\n    Z_rev = X * np.sin(theta[:, np.newaxis, np.newaxis])\n    \n    ax2.plot_surface(X_rev, Y_rev, Z_rev, alpha=0.7, cmap='plasma')\n    ax2.set_title(f'Volume = {volume2:.2f}')\n    ax2.set_xlabel('x')\n    ax2.set_ylabel('y')\n    ax2.set_zlabel('z')\n    \n    # Example 3: Volume between curves\n    ax3 = fig.add_subplot(133, projection='3d')\n    \n    x = np.linspace(0, 1, 50)\n    y = np.linspace(0, 1, 50)\n    X, Y = np.meshgrid(x, y)\n    Z1 = X\n    Z2 = X**2\n    \n    # Create surfaces\n    theta = np.linspace(0, 2*np.pi, 50)\n    X_rev1 = X\n    Y_rev1 = Z1 * np.cos(theta[:, np.newaxis, np.newaxis])\n    Z_rev1 = Z1 * np.sin(theta[:, np.newaxis, np.newaxis])\n    \n    X_rev2 = X\n    Y_rev2 = Z2 * np.cos(theta[:, np.newaxis, np.newaxis])\n    Z_rev2 = Z2 * np.sin(theta[:, np.newaxis, np.newaxis])\n    \n    ax3.plot_surface(X_rev1, Y_rev1, Z_rev1, alpha=0.7, color='blue')\n    ax3.plot_surface(X_rev2, Y_rev2, Z_rev2, alpha=0.7, color='red')\n    ax3.set_title(f'Volume = {volume3:.2f}')\n    ax3.set_xlabel('x')\n    ax3.set_ylabel('y')\n    ax3.set_zlabel('z')\n    \n    plt.tight_layout()\n    plt.show()\n\nvisualize_solids_of_revolution()\n"
      ]
    },
    {
      "cell_type": "markdown",
      "metadata": {},
      "source": [
        "## 5.3 Work and Energy Applications\n\n### Work Done by Variable Forces"
      ]
    },
    {
      "cell_type": "code",
      "execution_count": null,
      "metadata": {},
      "outputs": [],
      "source": [
        "def work_calculations():\n    \"\"\"Calculate work done by variable forces\"\"\"\n    \n    # Example 1: Work done by force F(x) = 2x + 1 from x = 0 to x = 5\n    x = sp.Symbol('x')\n    F = 2*x + 1\n    a, b = 0, 5\n    \n    # Work: W = ∫F(x)dx\n    work = sp.integrate(F, (x, a, b))\n    print(f\"Work done by F(x) = 2x + 1 from x = 0 to x = 5: {work}\")\n    \n    # Example 2: Work done by spring force F(x) = -kx\n    k = 10  # spring constant\n    F_spring = -k * x\n    displacement = 2  # meters\n    \n    work_spring = sp.integrate(F_spring, (x, 0, displacement))\n    print(f\"Work done by spring force F(x) = -{k}x from x = 0 to x = {displacement}: {work_spring}\")\n    \n    # Example 3: Work done against gravity\n    # Force = mg, where m = 2 kg, g = 9.8 m/s²\n    m, g = 2, 9.8\n    F_gravity = m * g\n    height = 10  # meters\n    \n    work_gravity = sp.integrate(F_gravity, (x, 0, height))\n    print(f\"Work done lifting {m} kg object {height} m against gravity: {work_gravity} J\")\n    \n    return F, F_spring, F_gravity, work, work_spring, work_gravity\n\nF, F_spring, F_gravity, work, work_spring, work_gravity = work_calculations()\n\n# Visualize work calculations\ndef visualize_work():\n    fig, (ax1, ax2, ax3) = plt.subplots(1, 3, figsize=(15, 5))\n    \n    # Example 1: Variable force\n    x_vals = np.linspace(0, 5, 1000)\n    F_vals = 2 * x_vals + 1\n    \n    ax1.plot(x_vals, F_vals, 'b-', linewidth=2, label='F(x) = 2x + 1')\n    ax1.fill_between(x_vals, F_vals, alpha=0.3, color='blue', label=f'Work = {work}')\n    ax1.set_xlabel('Position (m)')\n    ax1.set_ylabel('Force (N)')\n    ax1.set_title('Work Done by Variable Force')\n    ax1.legend()\n    ax1.grid(True)\n    \n    # Example 2: Spring force\n    x_vals2 = np.linspace(0, 2, 1000)\n    F_spring_vals = -10 * x_vals2\n    \n    ax2.plot(x_vals2, F_spring_vals, 'r-', linewidth=2, label='F(x) = -10x')\n    ax2.fill_between(x_vals2, F_spring_vals, alpha=0.3, color='red', label=f'Work = {work_spring}')\n    ax2.set_xlabel('Position (m)')\n    ax2.set_ylabel('Force (N)')\n    ax2.set_title('Work Done by Spring Force')\n    ax2.legend()\n    ax2.grid(True)\n    \n    # Example 3: Gravitational force\n    x_vals3 = np.linspace(0, 10, 1000)\n    F_gravity_vals = 2 * 9.8 * np.ones_like(x_vals3)\n    \n    ax3.plot(x_vals3, F_gravity_vals, 'g-', linewidth=2, label='F = mg = 19.6 N')\n    ax3.fill_between(x_vals3, F_gravity_vals, alpha=0.3, color='green', label=f'Work = {work_gravity:.1f} J')\n    ax3.set_xlabel('Height (m)')\n    ax3.set_ylabel('Force (N)')\n    ax3.set_title('Work Done Against Gravity')\n    ax3.legend()\n    ax3.grid(True)\n    \n    plt.tight_layout()\n    plt.show()\n\nvisualize_work()\n"
      ]
    },
    {
      "cell_type": "markdown",
      "metadata": {},
      "source": [
        "## 5.4 Probability and Statistics Applications\n\n### Continuous Probability Distributions"
      ]
    },
    {
      "cell_type": "code",
      "execution_count": null,
      "metadata": {},
      "outputs": [],
      "source": [
        "def probability_integration():\n    \"\"\"Calculate probabilities using integration\"\"\"\n    \n    # Example 1: Normal distribution probabilities\n    def normal_pdf(x, mu=0, sigma=1):\n        return (1/(sigma * np.sqrt(2*np.pi))) * np.exp(-0.5 * ((x - mu)/sigma)**2)\n    \n    # P(-1 ≤ X ≤ 1) for standard normal\n    prob_1sigma, _ = integrate.quad(normal_pdf, -1, 1)\n    print(f\"P(-1 ≤ X ≤ 1) for standard normal: {prob_1sigma:.4f}\")\n    \n    # P(-2 ≤ X ≤ 2) for standard normal\n    prob_2sigma, _ = integrate.quad(normal_pdf, -2, 2)\n    print(f\"P(-2 ≤ X ≤ 2) for standard normal: {prob_2sigma:.4f}\")\n    \n    # Example 2: Exponential distribution\n    def exponential_pdf(x, lambda_param=1):\n        return lambda_param * np.exp(-lambda_param * x)\n    \n    # P(X > 2) for exponential with λ = 1\n    prob_exponential, _ = integrate.quad(exponential_pdf, 2, np.inf, args=(1,))\n    print(f\"P(X > 2) for exponential(λ=1): {prob_exponential:.4f}\")\n    \n    # Example 3: Expected value calculations\n    def expected_value_exponential(lambda_param=1):\n        integrand = lambda x: x * exponential_pdf(x, lambda_param)\n        result, _ = integrate.quad(integrand, 0, np.inf)\n        return result\n    \n    expected_val = expected_value_exponential(1)\n    print(f\"E[X] for exponential(λ=1): {expected_val:.4f}\")\n    \n    return prob_1sigma, prob_2sigma, prob_exponential, expected_val\n\nprob_1sigma, prob_2sigma, prob_exponential, expected_val = probability_integration()\n\n# Visualize probability distributions\ndef visualize_probability_distributions():\n    fig, ((ax1, ax2), (ax3, ax4)) = plt.subplots(2, 2, figsize=(15, 10))\n    \n    # Normal distribution\n    x_normal = np.linspace(-4, 4, 1000)\n    y_normal = normal_pdf(x_normal)\n    \n    ax1.plot(x_normal, y_normal, 'b-', linewidth=2, label='Standard Normal')\n    mask_1sigma = (x_normal >= -1) & (x_normal <= 1)\n    ax1.fill_between(x_normal[mask_1sigma], y_normal[mask_1sigma], alpha=0.5, color='red',\n                     label=f'P(-1 ≤ X ≤ 1) = {prob_1sigma:.4f}')\n    ax1.set_xlabel('x')\n    ax1.set_ylabel('f(x)')\n    ax1.set_title('Normal Distribution')\n    ax1.legend()\n    ax1.grid(True)\n    \n    # Normal distribution ±2σ\n    ax2.plot(x_normal, y_normal, 'b-', linewidth=2, label='Standard Normal')\n    mask_2sigma = (x_normal >= -2) & (x_normal <= 2)\n    ax2.fill_between(x_normal[mask_2sigma], y_normal[mask_2sigma], alpha=0.5, color='green',\n                     label=f'P(-2 ≤ X ≤ 2) = {prob_2sigma:.4f}')\n    ax2.set_xlabel('x')\n    ax2.set_ylabel('f(x)')\n    ax2.set_title('Normal Distribution ±2σ')\n    ax2.legend()\n    ax2.grid(True)\n    \n    # Exponential distribution\n    x_exp = np.linspace(0, 5, 1000)\n    y_exp = exponential_pdf(x_exp, 1)\n    \n    ax3.plot(x_exp, y_exp, 'r-', linewidth=2, label='Exponential(λ=1)')\n    mask_exp = x_exp > 2\n    ax3.fill_between(x_exp[mask_exp], y_exp[mask_exp], alpha=0.5, color='orange',\n                     label=f'P(X > 2) = {prob_exponential:.4f}')\n    ax3.set_xlabel('x')\n    ax3.set_ylabel('f(x)')\n    ax3.set_title('Exponential Distribution')\n    ax3.legend()\n    ax3.grid(True)\n    \n    # Expected value visualization\n    x_expected = np.linspace(0, 5, 1000)\n    y_expected = exponential_pdf(x_expected, 1)\n    expected_line = expected_val * np.ones_like(x_expected)\n    \n    ax4.plot(x_expected, y_expected, 'r-', linewidth=2, label='Exponential(λ=1)')\n    ax4.axvline(x=expected_val, color='g', linestyle='--', linewidth=2,\n                label=f'E[X] = {expected_val:.4f}')\n    ax4.set_xlabel('x')\n    ax4.set_ylabel('f(x)')\n    ax4.set_title('Expected Value')\n    ax4.legend()\n    ax4.grid(True)\n    \n    plt.tight_layout()\n    plt.show()\n\nvisualize_probability_distributions()\n"
      ]
    },
    {
      "cell_type": "markdown",
      "metadata": {},
      "source": [
        "## 5.5 Applications in Economics and Finance\n\n### Consumer and Producer Surplus"
      ]
    },
    {
      "cell_type": "code",
      "execution_count": null,
      "metadata": {},
      "outputs": [],
      "source": [
        "def economic_surplus():\n    \"\"\"Calculate consumer and producer surplus using integration\"\"\"\n    \n    # Example: Market with demand and supply curves\n    x = sp.Symbol('x')  # quantity\n    p = sp.Symbol('p')  # price\n    \n    # Demand curve: p = 100 - 2x\n    demand = 100 - 2*x\n    \n    # Supply curve: p = 20 + 3x\n    supply = 20 + 3*x\n    \n    # Find equilibrium\n    equilibrium_quantity = sp.solve(demand - supply, x)[0]\n    equilibrium_price = demand.subs(x, equilibrium_quantity)\n    \n    print(f\"Equilibrium quantity: {equilibrium_quantity}\")\n    print(f\"Equilibrium price: {equilibrium_price}\")\n    \n    # Consumer surplus: ∫[demand - equilibrium_price]dx from 0 to equilibrium_quantity\n    consumer_surplus = sp.integrate(demand - equilibrium_price, (x, 0, equilibrium_quantity))\n    \n    # Producer surplus: ∫[equilibrium_price - supply]dx from 0 to equilibrium_quantity\n    producer_surplus = sp.integrate(equilibrium_price - supply, (x, 0, equilibrium_quantity))\n    \n    print(f\"Consumer surplus: {consumer_surplus}\")\n    print(f\"Producer surplus: {producer_surplus}\")\n    print(f\"Total surplus: {consumer_surplus + producer_surplus}\")\n    \n    return demand, supply, equilibrium_quantity, equilibrium_price, consumer_surplus, producer_surplus\n\ndemand, supply, eq_q, eq_p, cs, ps = economic_surplus()\n\n# Visualize economic surplus\ndef visualize_economic_surplus():\n    x_vals = np.linspace(0, 50, 1000)\n    demand_vals = 100 - 2 * x_vals\n    supply_vals = 20 + 3 * x_vals\n    \n    plt.figure(figsize=(12, 8))\n    \n    # Plot demand and supply curves\n    plt.plot(x_vals, demand_vals, 'b-', linewidth=2, label='Demand: p = 100 - 2x')\n    plt.plot(x_vals, supply_vals, 'r-', linewidth=2, label='Supply: p = 20 + 3x')\n    \n    # Mark equilibrium point\n    plt.scatter(eq_q, eq_p, c='green', s=100, zorder=5, \n                label=f'Equilibrium: ({eq_q}, {eq_p})')\n    \n    # Fill consumer surplus (area above price, below demand)\n    mask = x_vals <= eq_q\n    plt.fill_between(x_vals[mask], demand_vals[mask], eq_p, alpha=0.3, color='blue',\n                     label=f'Consumer Surplus = {cs:.2f}')\n    \n    # Fill producer surplus (area below price, above supply)\n    plt.fill_between(x_vals[mask], eq_p, supply_vals[mask], alpha=0.3, color='red',\n                     label=f'Producer Surplus = {ps:.2f}')\n    \n    plt.xlabel('Quantity')\n    plt.ylabel('Price')\n    plt.title('Consumer and Producer Surplus')\n    plt.legend()\n    plt.grid(True)\n    plt.xlim(0, 50)\n    plt.ylim(0, 100)\n    plt.show()\n\nvisualize_economic_surplus()\n"
      ]
    },
    {
      "cell_type": "markdown",
      "metadata": {},
      "source": [
        "## 5.6 Applications in Physics and Engineering\n\n### Center of Mass and Moments"
      ]
    },
    {
      "cell_type": "code",
      "execution_count": null,
      "metadata": {},
      "outputs": [],
      "source": [
        "def center_of_mass_calculations():\n    \"\"\"Calculate center of mass using integration\"\"\"\n    \n    # Example: Center of mass of a thin rod with variable density\n    x = sp.Symbol('x')\n    \n    # Density function: ρ(x) = 1 + x (kg/m)\n    density = 1 + x\n    length = 2  # meters\n    \n    # Total mass: M = ∫ρ(x)dx\n    total_mass = sp.integrate(density, (x, 0, length))\n    \n    # First moment: ∫x*ρ(x)dx\n    first_moment = sp.integrate(x * density, (x, 0, length))\n    \n    # Center of mass: x_cm = (∫x*ρ(x)dx) / (∫ρ(x)dx)\n    center_of_mass = first_moment / total_mass\n    \n    print(f\"Total mass: {total_mass} kg\")\n    print(f\"First moment: {first_moment} kg·m\")\n    print(f\"Center of mass: {center_of_mass} m\")\n    \n    # Example: Center of mass of a semicircle\n    # For a semicircle of radius R, center of mass is at (0, 4R/(3π))\n    R = 1\n    y_cm_semicircle = 4 * R / (3 * np.pi)\n    print(f\"Center of mass of semicircle (radius {R}): (0, {y_cm_semicircle:.4f})\")\n    \n    return density, total_mass, center_of_mass, y_cm_semicircle\n\ndensity, total_mass, center_of_mass, y_cm_semicircle = center_of_mass_calculations()\n\n# Visualize center of mass\ndef visualize_center_of_mass():\n    fig, (ax1, ax2) = plt.subplots(1, 2, figsize=(15, 6))\n    \n    # Thin rod with variable density\n    x_vals = np.linspace(0, 2, 1000)\n    density_vals = 1 + x_vals\n    \n    ax1.plot(x_vals, density_vals, 'b-', linewidth=2, label='Density: ρ(x) = 1 + x')\n    ax1.axvline(x=center_of_mass, color='red', linestyle='--', linewidth=2,\n                label=f'Center of mass: x = {center_of_mass:.3f}')\n    ax1.fill_between(x_vals, density_vals, alpha=0.3, color='blue')\n    ax1.set_xlabel('Position (m)')\n    ax1.set_ylabel('Density (kg/m)')\n    ax1.set_title('Thin Rod with Variable Density')\n    ax1.legend()\n    ax1.grid(True)\n    \n    # Semicircle\n    theta = np.linspace(0, np.pi, 1000)\n    x_circle = np.cos(theta)\n    y_circle = np.sin(theta)\n    \n    ax2.plot(x_circle, y_circle, 'b-', linewidth=2, label='Semicircle')\n    ax2.scatter(0, y_cm_semicircle, c='red', s=100, zorder=5,\n                label=f'Center of mass: (0, {y_cm_semicircle:.3f})')\n    ax2.fill(x_circle, y_circle, alpha=0.3, color='blue')\n    ax2.set_xlabel('x')\n    ax2.set_ylabel('y')\n    ax2.set_title('Semicircle Center of Mass')\n    ax2.legend()\n    ax2.grid(True)\n    ax2.set_aspect('equal')\n    \n    plt.tight_layout()\n    plt.show()\n\nvisualize_center_of_mass()\n"
      ]
    },
    {
      "cell_type": "markdown",
      "metadata": {},
      "source": [
        "## Summary\n\n- **Area Between Curves**: Use integration to find areas between functions\n- **Volume Calculations**: Solids of revolution using disk and shell methods\n- **Work and Energy**: Calculate work done by variable forces\n- **Probability Applications**: Continuous distributions and expected values\n- **Economic Applications**: Consumer/producer surplus and market analysis\n- **Physics Applications**: Center of mass and moment calculations\n\n## Next Steps\n\nUnderstanding integration applications enables you to solve complex real-world problems involving areas, volumes, work, and probability. The next section explores multivariable calculus for functions of multiple variables."
      ]
    }
  ],
  "metadata": {
    "kernelspec": {
      "display_name": "Python 3",
      "language": "python",
      "name": "python3"
    },
    "language_info": {
      "codemirror_mode": {
        "name": "ipython",
        "version": 3
      },
      "file_extension": ".py",
      "mimetype": "text/x-python",
      "name": "python",
      "nbconvert_exporter": "python",
      "pygments_lexer": "ipython3",
      "version": "3.8.0"
    }
  },
  "nbformat": 4,
  "nbformat_minor": 4
}