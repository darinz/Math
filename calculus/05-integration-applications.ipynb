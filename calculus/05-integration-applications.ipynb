{
    "cells": [
     {
      "cell_type": "markdown",
      "metadata": {},
      "source": [
       "# Applications of Integration\n",
       "\n",
       "[![Python](https://img.shields.io/badge/Python-3.8+-blue.svg)](https://www.python.org/)\n",
       "[![NumPy](https://img.shields.io/badge/NumPy-1.21+-green.svg)](https://numpy.org/)\n",
       "[![Matplotlib](https://img.shields.io/badge/Matplotlib-3.5+-orange.svg)](https://matplotlib.org/)\n",
       "[![SymPy](https://img.shields.io/badge/SymPy-1.10+-purple.svg)](https://www.sympy.org/)\n",
       "\n",
       "## Introduction\n",
       "\n",
       "Integration has numerous applications in physics, probability, and machine learning. This chapter explores practical applications."
      ]
     },
     {
      "cell_type": "code",
      "execution_count": null,
      "metadata": {},
      "outputs": [],
      "source": [
       "import numpy as np\n",
       "import matplotlib.pyplot as plt\n",
       "from scipy import integrate\n",
       "from scipy.stats import norm\n",
       "\n",
       "plt.style.use('seaborn-v0_8')\n",
       "plt.rcParams['figure.figsize'] = (12, 8)"
      ]
     },
     {
      "cell_type": "markdown",
      "metadata": {},
      "source": [
       "## 5.1 Expected Value and Variance\n",
       "\n",
       "Integration is used to calculate expected values and variances of continuous random variables."
      ]
     },
     {
      "cell_type": "code",
      "execution_count": null,
      "metadata": {},
      "outputs": [],
      "source": [
       "# Calculate expected value and variance of normal distribution\n",
       "def normal_pdf(x, mu=0, sigma=1):\n",
       "    return (1/(sigma * np.sqrt(2*np.pi))) * np.exp(-0.5 * ((x - mu)/sigma)**2)\n",
       "\n",
       "def x_times_pdf(x, mu=0, sigma=1):\n",
       "    return x * normal_pdf(x, mu, sigma)\n",
       "\n",
       "def x_squared_times_pdf(x, mu=0, sigma=1):\n",
       "    return x**2 * normal_pdf(x, mu, sigma)\n",
       "\n",
       "# Calculate expected value\n",
       "expected_value, _ = integrate.quad(x_times_pdf, -np.inf, np.inf)\n",
       "print(f\"Expected value: E[X] = {expected_value:.6f}\")\n",
       "\n",
       "# Calculate variance\n",
       "second_moment, _ = integrate.quad(x_squared_times_pdf, -np.inf, np.inf)\n",
       "variance = second_moment - expected_value**2\n",
       "print(f\"Variance: Var[X] = {variance:.6f}\")\n",
       "print(f\"Standard deviation: σ = {np.sqrt(variance):.6f}\")"
      ]
     }
    ],
    "metadata": {
     "kernelspec": {
      "display_name": "Python 3",
      "language": "python",
      "name": "python3"
     },
     "language_info": {
      "codemirror_mode": {
       "name": "ipython",
       "version": 3
      },
      "file_extension": ".py",
      "mimetype": "text/x-python",
      "name": "python",
      "nbconvert_exporter": "python",
      "pygments_lexer": "ipython3",
      "version": "3.8.5"
     }
    },
    "nbformat": 4,
    "nbformat_minor": 4
   }