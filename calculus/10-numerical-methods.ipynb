{
    "cells": [
     {
      "cell_type": "markdown",
      "metadata": {},
      "source": [
       "# Numerical Methods\n",
       "\n",
       "[![Python](https://img.shields.io/badge/Python-3.8+-blue.svg)](https://www.python.org/)\n",
       "[![NumPy](https://img.shields.io/badge/NumPy-1.21+-green.svg)](https://numpy.org/)\n",
       "[![Matplotlib](https://img.shields.io/badge/Matplotlib-3.5+-orange.svg)](https://matplotlib.org/)\n",
       "[![SymPy](https://img.shields.io/badge/SymPy-1.10+-purple.svg)](https://www.sympy.org/)\n",
       "\n",
       "## Introduction\n",
       "\n",
       "Numerical methods provide computational techniques for solving mathematical problems that may not have analytical solutions."
      ]
     },
     {
      "cell_type": "code",
      "execution_count": null,
      "metadata": {},
      "outputs": [],
      "source": [
       "import numpy as np\n",
       "import matplotlib.pyplot as plt\n",
       "from scipy import integrate, optimize\n",
       "\n",
       "plt.style.use('seaborn-v0_8')\n",
       "plt.rcParams['figure.figsize'] = (12, 8)"
      ]
     },
     {
      "cell_type": "markdown",
      "metadata": {},
      "source": [
       "## 10.1 Numerical Integration\n",
       "\n",
       "Numerical integration methods approximate definite integrals when analytical solutions are difficult."
      ]
     },
     {
      "cell_type": "code",
      "execution_count": null,
      "metadata": {},
      "outputs": [],
      "source": [
       "# Trapezoidal rule\n",
       "def trapezoidal_rule(f, a, b, n):\n",
       "    x = np.linspace(a, b, n+1)\n",
       "    y = f(x)\n",
       "    return (b-a) * (y[0] + 2*np.sum(y[1:-1]) + y[-1]) / (2*n)\n",
       "\n",
       "# Example function\n",
       "def f(x):\n",
       "    return np.sin(x)\n",
       "\n",
       "# Compare methods\n",
       "a, b = 0, np.pi\n",
       "exact = 2.0  # ∫₀^π sin(x) dx = 2\n",
       "\n",
       "n_values = [10, 50, 100, 500]\n",
       "for n in n_values:\n",
       "    approx = trapezoidal_rule(f, a, b, n)\n",
       "    error = abs(approx - exact)\n",
       "    print(f\"n={n:3d}: {approx:.6f}, error={error:.6f}\")\n",
       "\n",
       "# Scipy integration\n",
       "result_scipy, error_scipy = integrate.quad(f, a, b)\n",
       "print(f\"\\nScipy quad: {result_scipy:.6f}, error={error_scipy:.6f}\")"
      ]
     }
    ],
    "metadata": {
     "kernelspec": {
      "display_name": "Python 3",
      "language": "python",
      "name": "python3"
     },
     "language_info": {
      "codemirror_mode": {
       "name": "ipython",
       "version": 3
      },
      "file_extension": ".py",
      "mimetype": "text/x-python",
      "name": "python",
      "nbconvert_exporter": "python",
      "pygments_lexer": "ipython3",
      "version": "3.8.5"
     }
    },
    "nbformat": 4,
    "nbformat_minor": 4
   }